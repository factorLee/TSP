{
  "nbformat": 4,
  "nbformat_minor": 0,
  "metadata": {
    "colab": {
      "name": "TSP(외판원 문제) 동적계획법.ipynb",
      "provenance": [],
      "collapsed_sections": []
    },
    "kernelspec": {
      "name": "python3",
      "display_name": "Python 3"
    }
  },
  "cells": [
    {
      "cell_type": "code",
      "metadata": {
        "id": "v7B22GBkS4nR"
      },
      "source": [
        "##########################\n",
        "# TSP_dynamic programming#\n",
        "##########################\n",
        "\n",
        "# 집합 A의 원소가 몇개 인지 확인하는 count 함수\n",
        "def count (A, n):\n",
        "    count = 0\n",
        "    for i in range(n):\n",
        "        if ((A & (1 << i)) != 0):\n",
        "            count += 1\n",
        "    return count\n",
        "\n",
        "# 집합 A에 vi가 속하고 있는지 확인하는 isIn 함수\n",
        "def isIn (i, A):\n",
        "    if ((A & (1 << (i - 2))) != 0):\n",
        "        return True\n",
        "    else:\n",
        "        return False\n",
        "        \n",
        "# 차집합의 기능을 하는 diff 함수        \n",
        "def diff (A, j):\n",
        "    t = 1 << (j - 2)\n",
        "    return (A & (~t))\n",
        "\n",
        "def minimum (W, D, i, A):\n",
        "    minValue = INF\n",
        "    minJ = 1\n",
        "    n = len(W) - 1\n",
        "    for j in range(2, n + 1):\n",
        "        if (isIn(j, A)):\n",
        "            m = W[i][j] + D[j][diff(A, j)]\n",
        "            \n",
        "            if (minValue > m):\n",
        "                minValue = m\n",
        "                minJ = j\n",
        "    return minValue, minJ\n",
        "\n",
        "# 최단 경로를 출력해주는 tour 함수\n",
        "def tour(v,A):\n",
        "    next = P[v][A]\n",
        "    print('v%d->' %v, end='')\n",
        "    if(A == 0):\n",
        "        return \n",
        "    tour(next,diff(A,next))\n"
      ],
      "execution_count": null,
      "outputs": []
    },
    {
      "cell_type": "code",
      "metadata": {
        "id": "sp53HKitTMlh"
      },
      "source": [
        "# 도시와 도시 사이를 이동하면서의 거리와 이동 방향을 나타내 주는 travel 함수\n",
        "def travel (W):\n",
        "    n = len(W) - 1\n",
        "    size = 2 ** (n - 1)\n",
        "    D = [[0] * size for _ in range(n + 1)]\n",
        "    P = [[0] * size for _ in range(n + 1)]\n",
        "    for i in range(2, n + 1):\n",
        "        D[i][0] = W[i][1]\n",
        "    for k in range(1, n - 1):\n",
        "        for A in range(1, size):\n",
        "            if (count(A, n) == k):\n",
        "                for i in range(2, n + 1):\n",
        "                    if (not isIn(i, A)):\n",
        "                        D[i][A], P[i][A] = minimum(W, D, i, A)\n",
        "    A = size - 1\n",
        "    D[1][A], P[1][A] = minimum(W, D, 1, A)\n",
        "    return D, P\n",
        "INF = 99"
      ],
      "execution_count": null,
      "outputs": []
    },
    {
      "cell_type": "code",
      "metadata": {
        "id": "dgGMnLaQTlht"
      },
      "source": [
        "# 거리 행렬 (임의 설정)\n",
        "W = [\n",
        "     [-1, -1, -1, -1, -1],\n",
        "     [-1, 0, 10, 17, 15],\n",
        "     [-1, 20, 0, 19, 18],\n",
        "     [-1, 50, 44, 0, 22],\n",
        "     [-1, 45, 40, 20, 0]\n",
        "     ]"
      ],
      "execution_count": null,
      "outputs": []
    },
    {
      "cell_type": "code",
      "metadata": {
        "colab": {
          "base_uri": "https://localhost:8080/"
        },
        "id": "r-fQsvBWUkIv",
        "outputId": "4f3516e5-70ef-4597-e86b-4c176bf4fe44"
      },
      "source": [
        "# 거리를 나타내는 D, 이동 방향을 나타내는 P\n",
        "D, P = travel(W)\n",
        "print('D = ')\n",
        "for i in range(1, len(D)):\n",
        "    print(D[i])\n",
        "print('P = ')\n",
        "for i in range(1, len(W)):\n",
        "    print(P[i])\n",
        "print('minlength = ', D[1][2**(len(D)-2)-1]) # 최단거리"
      ],
      "execution_count": null,
      "outputs": [
        {
          "output_type": "stream",
          "text": [
            "D = \n",
            "[0, 0, 0, 0, 0, 0, 0, 96]\n",
            "[20, 0, 69, 0, 63, 0, 86, 0]\n",
            "[50, 64, 0, 0, 67, 82, 0, 0]\n",
            "[45, 60, 70, 84, 0, 0, 0, 0]\n",
            "P = \n",
            "[0, 0, 0, 0, 0, 0, 0, 2]\n",
            "[0, 0, 3, 0, 4, 0, 3, 0]\n",
            "[0, 2, 0, 0, 4, 4, 0, 0]\n",
            "[0, 2, 3, 3, 0, 0, 0, 0]\n",
            "minlength =  96\n"
          ],
          "name": "stdout"
        }
      ]
    },
    {
      "cell_type": "code",
      "metadata": {
        "colab": {
          "base_uri": "https://localhost:8080/"
        },
        "id": "NoSEwiSQU52h",
        "outputId": "4cb0fe43-7e9d-4a86-ddef-731618b0edf8"
      },
      "source": [
        "# 최단거리 경로 출력\n",
        "size = 2**(len(W)-2)-1\n",
        "v = 1\n",
        "print(\"optimal tour: \")\n",
        "tour(v, size)\n",
        "print(\"v%d\" %v)"
      ],
      "execution_count": null,
      "outputs": [
        {
          "output_type": "stream",
          "text": [
            "optimal tour: \n",
            "v1->v2->v3->v4->v1\n"
          ],
          "name": "stdout"
        }
      ]
    },
    {
      "cell_type": "code",
      "metadata": {
        "id": "SOZB2l2MV4hw"
      },
      "source": [
        ""
      ],
      "execution_count": null,
      "outputs": []
    }
  ]
}